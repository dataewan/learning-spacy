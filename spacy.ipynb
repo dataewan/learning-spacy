{
 "cells": [
  {
   "cell_type": "code",
   "execution_count": 1,
   "metadata": {
    "collapsed": true
   },
   "outputs": [],
   "source": [
    "import spacy"
   ]
  },
  {
   "cell_type": "code",
   "execution_count": 2,
   "metadata": {
    "collapsed": true
   },
   "outputs": [],
   "source": [
    "nlp = spacy.load('en')"
   ]
  },
  {
   "cell_type": "code",
   "execution_count": 3,
   "metadata": {
    "collapsed": true
   },
   "outputs": [],
   "source": [
    "with open('data/glamping.txt') as f:\n",
    "    text_1 = f.read()\n",
    "    \n",
    "with open('data/october_deals.txt') as f:\n",
    "    text_2 = f.read()"
   ]
  },
  {
   "cell_type": "code",
   "execution_count": 9,
   "metadata": {
    "collapsed": true
   },
   "outputs": [],
   "source": [
    "doc1 = nlp(text_1)\n",
    "doc2 = nlp(text_2)"
   ]
  },
  {
   "cell_type": "code",
   "execution_count": 8,
   "metadata": {
    "collapsed": false
   },
   "outputs": [
    {
     "data": {
      "text/plain": [
       "(Laura Gavin,\n",
       " 16,\n",
       " 16,\n",
       " Treehotel,\n",
       " Sweden,\n",
       " Harads,\n",
       " Swedish,\n",
       " Lapland,\n",
       " only 50,\n",
       " the Arctic Circle,\n",
       " Sweden,\n",
       " Sweden,\n",
       " The Tree Lover by Jonas Selberg and with the help of some of Sweden,\n",
       " September,\n",
       " Northern Lights,\n",
       " 2,\n",
       " Sal Salis,\n",
       " Australia,\n",
       " Sal Salis,\n",
       " Exmouth,\n",
       " hour,\n",
       " Sal Salis,\n",
       " Australia,\n",
       " Cape Range,\n",
       " Ningaloo Coral Reef,\n",
       " Australia,\n",
       " 10,\n",
       " Antipodean,\n",
       " 3.Chewton Glen,\n",
       " England,\n",
       " 10 minutes,\n",
       " Chewton Glen,\n",
       " Hampshire,\n",
       " first,\n",
       " British,\n",
       " the day,\n",
       " three,\n",
       " 26.50,\n",
       " afternoon,\n",
       " 4,\n",
       " Eco Camp,\n",
       " Torres,\n",
       " Patagonia,\n",
       " Chile,\n",
       " Puerto Natales,\n",
       " Torres,\n",
       " one,\n",
       " 25,\n",
       " One,\n",
       " South America,\n",
       " 10,\n",
       " 5,\n",
       " Lanzarote Retreats,\n",
       " Lanzarote,\n",
       " Spain,\n",
       " 2,\n",
       " Lanzarote,\n",
       " Balinese,\n",
       " Lanzarote Retreats,\n",
       " Arrieta Beach,\n",
       " 6,\n",
       " Tena Tena Camp,\n",
       " Zambia,\n",
       " Chipata,\n",
       " two hours,\n",
       " the Great Valley Rift,\n",
       " Lauangwa National Park,\n",
       " Tena Tena's,\n",
       " Africa,\n",
       " Switzerland,\n",
       " Idyllic Saint-Maurice,\n",
       " Lake Geneva,\n",
       " 25 minutes,\n",
       " 15,\n",
       " Swiss,\n",
       " five,\n",
       " Alpine,\n",
       " the summer,\n",
       " winter,\n",
       " 8,\n",
       " England,\n",
       " Roundhouse,\n",
       " Bodrifty,\n",
       " 15 minute,\n",
       " Penzance,\n",
       " Cornish,\n",
       " Iron Age,\n",
       " Egyptian,\n",
       " Cornwall,\n",
       " St Ives,\n",
       " Botallack,\n",
       " one,\n",
       " Britain,\n",
       " Cornwall,\n",
       " 9,\n",
       " Spain,\n",
       " Bilbao,\n",
       " about 50,\n",
       " Basque,\n",
       " The Cabins in the Trees in rural Vizcaya,\n",
       " Europe,\n",
       " 17,\n",
       " 10,\n",
       " Clayoquot Wilderness Resort,\n",
       " Canada,\n",
       " Tofino,\n",
       " about 20 minutes,\n",
       " Scarlett Johansson,\n",
       " Ryan Reynolds',\n",
       " Vancouver Island,\n",
       " Vancouver,\n",
       " Tofino),\n",
       " Canadian,\n",
       " 11,\n",
       " Entamanu Ngorongoro,\n",
       " Tanzania,\n",
       " Arusha,\n",
       " 200,\n",
       " Northern Tanzania,\n",
       " Nomad Tanzania's,\n",
       " Mongolian,\n",
       " Meru,\n",
       " 12,\n",
       " Hobbit House,\n",
       " England,\n",
       " Penzance,\n",
       " 409,\n",
       " Cornwall,\n",
       " Hobbit House,\n",
       " 13,\n",
       " Montana,\n",
       " USA,\n",
       " Missoula,\n",
       " around 35 minutes,\n",
       " Montana,\n",
       " five,\n",
       " 14,\n",
       " Emma Gorge Resort,\n",
       " Western Australia,\n",
       " Kimberley,\n",
       " Bali,\n",
       " Perth,\n",
       " Kununurra,\n",
       " Outback,\n",
       " El Questro Wilderness Park,\n",
       " Western Australia's,\n",
       " Kimberley,\n",
       " 15,\n",
       " Scotland,\n",
       " 20 minute,\n",
       " Trossachs Natural Park,\n",
       " Loch Lomond,\n",
       " Loch Lomond,\n",
       " Trossachs,\n",
       " 16,\n",
       " Longitude 131°,\n",
       " Australia,\n",
       " Ayers Rock Airport,\n",
       " Alice Springs,\n",
       " 50 minutes,\n",
       " Sydney,\n",
       " 3 hours,\n",
       " Longitude 131°,\n",
       " Monte Uluru,\n",
       " Australian,\n",
       " 15)"
      ]
     },
     "execution_count": 8,
     "metadata": {},
     "output_type": "execute_result"
    }
   ],
   "source": [
    "doc1.ents"
   ]
  },
  {
   "cell_type": "code",
   "execution_count": 21,
   "metadata": {
    "collapsed": false
   },
   "outputs": [],
   "source": [
    "e = doc1.ents[53]"
   ]
  },
  {
   "cell_type": "code",
   "execution_count": 22,
   "metadata": {
    "collapsed": false
   },
   "outputs": [
    {
     "data": {
      "text/plain": [
       "'GPE'"
      ]
     },
     "execution_count": 22,
     "metadata": {},
     "output_type": "execute_result"
    }
   ],
   "source": [
    "e.label_"
   ]
  },
  {
   "cell_type": "code",
   "execution_count": 23,
   "metadata": {
    "collapsed": false
   },
   "outputs": [
    {
     "data": {
      "text/plain": [
       "'Lanzarote'"
      ]
     },
     "execution_count": 23,
     "metadata": {},
     "output_type": "execute_result"
    }
   ],
   "source": [
    "e.text"
   ]
  },
  {
   "cell_type": "code",
   "execution_count": 24,
   "metadata": {
    "collapsed": false
   },
   "outputs": [
    {
     "data": {
      "text/plain": [
       "'lanzarote'"
      ]
     },
     "execution_count": 24,
     "metadata": {},
     "output_type": "execute_result"
    }
   ],
   "source": [
    "e.lemma_"
   ]
  },
  {
   "cell_type": "code",
   "execution_count": 31,
   "metadata": {
    "collapsed": false
   },
   "outputs": [],
   "source": [
    "similarities = []\n",
    "for ent in doc1.ents:\n",
    "    similarities.append([ent.text, ent.lemma_, ent.label_, ent.similarity(e)])"
   ]
  },
  {
   "cell_type": "code",
   "execution_count": 32,
   "metadata": {
    "collapsed": false
   },
   "outputs": [
    {
     "data": {
      "text/plain": [
       "[['Laura Gavin', 'laura gavin', 'PERSON', 0.40914157969660725],\n",
       " ['16', '16', 'CARDINAL', 0.36594566824935382],\n",
       " ['16', '16', 'CARDINAL', 0.36594566824935382],\n",
       " ['Treehotel', 'treehotel', 'GPE', 0.0],\n",
       " ['Sweden', 'sweden', 'GPE', 0.60153955325480202],\n",
       " ['Harads', 'harads', 'PERSON', 0.0],\n",
       " ['Swedish', 'swedish', 'NORP', 0.38595640677146259],\n",
       " ['Lapland', 'lapland', 'GPE', 0.8029443021837408],\n",
       " ['only 50', 'only 50', 'CARDINAL', 0.38504281273413615],\n",
       " ['the Arctic Circle', 'the arctic circle', 'ORG', 0.59054651381241352],\n",
       " ['Sweden', 'sweden', 'GPE', 0.60153955325480202],\n",
       " ['Sweden', 'sweden', 'GPE', 0.60153955325480202],\n",
       " ['The Tree Lover by Jonas Selberg and with the help of some of Sweden',\n",
       "  'the tree lover by jonas selberg and with the help of some of sweden',\n",
       "  'WORK_OF_ART',\n",
       "  0.52837248107174195],\n",
       " ['September', 'september', 'DATE', 0.48172372504593225],\n",
       " ['Northern Lights', 'northern light', 'LOC', 0.4696413998233252],\n",
       " ['2', '2', 'CARDINAL', 0.32800015867477028],\n",
       " ['Sal Salis', 'sal salis', 'PERSON', 0.66091200435308417],\n",
       " ['Australia', 'australia', 'GPE', 0.5464240280709719],\n",
       " ['Sal Salis', 'sal salis', 'PERSON', 0.66091200435308417],\n",
       " ['Exmouth', 'exmouth', 'ORG', 0.69459289424708681],\n",
       " ['hour', 'hour', 'TIME', 0.28157585886576081],\n",
       " ['Sal Salis', 'sal salis', 'PERSON', 0.66091200435308417],\n",
       " ['Australia', 'australia', 'GPE', 0.5464240280709719],\n",
       " ['Cape Range', 'cape range', 'ORG', 0.51229066620449193],\n",
       " ['Ningaloo Coral Reef', 'ningaloo coral reef', 'ORG', 0.5095836312000126],\n",
       " ['Australia', 'australia', 'GPE', 0.5464240280709719],\n",
       " ['10', '10', 'CARDINAL', 0.34314832119379496],\n",
       " ['Antipodean', 'antipodean', 'NORP', 0.0],\n",
       " ['3.Chewton Glen', '3.chewton glen', 'PERSON', 0.39616206195372794],\n",
       " ['England', 'england', 'GPE', 0.51209032400414978],\n",
       " ['10 minutes', '10 minute', 'TIME', 0.36477648668469992],\n",
       " ['Chewton Glen', 'chewton glen', 'PERSON', 0.39616206195372794],\n",
       " ['Hampshire', 'hampshire', 'GPE', 0.49947205306035353],\n",
       " ['first', 'first', 'ORDINAL', 0.2782015802734521],\n",
       " ['British', 'british', 'NORP', 0.32242056802583219],\n",
       " ['the day', 'the day', 'DATE', 0.47416296768926797],\n",
       " ['three', 'three', 'CARDINAL', 0.31530475733214464],\n",
       " ['26.50', '26.50', 'MONEY', 0.0],\n",
       " ['afternoon', 'afternoon', 'TIME', 0.38232061360019604],\n",
       " ['4', '4', 'CARDINAL', 0.33917111306606501],\n",
       " ['Eco Camp', 'eco camp', 'PERSON', 0.48709975745957534],\n",
       " ['Torres', 'torres', 'NORP', 0.50916606449134305],\n",
       " ['Patagonia', 'patagonia', 'GPE', 0.78871626030012654],\n",
       " ['Chile', 'chile', 'GPE', 0.69589090323041103],\n",
       " ['Puerto Natales', 'puerto natales', 'GPE', 0.46915674306928989],\n",
       " ['Torres', 'torres', 'PERSON', 0.50916606449134305],\n",
       " ['one', 'one', 'CARDINAL', 0.28802844999448646],\n",
       " ['25', '25', 'CARDINAL', 0.38043159206258231],\n",
       " ['One', 'one', 'CARDINAL', 0.28802844999448646],\n",
       " ['South America', 'south america', 'LOC', 0.57378405424941747],\n",
       " ['10', '10', 'CARDINAL', 0.34314832119379496],\n",
       " ['5', '5', 'CARDINAL', 0.3472761514820506],\n",
       " ['Lanzarote Retreats', 'lanzarote retreats', 'PERSON', 0.7863198152217451],\n",
       " ['Lanzarote', 'lanzarote', 'GPE', 1.0000000035915946],\n",
       " ['Spain', 'spain', 'GPE', 0.62257569878817864],\n",
       " ['2', '2', 'CARDINAL', 0.32800015867477028],\n",
       " ['Lanzarote', 'lanzarote', 'GPE', 1.0000000035915946],\n",
       " ['Balinese', 'balinese', 'NORP', 0.45522511234991236],\n",
       " ['Lanzarote Retreats', 'lanzarote retreats', 'PERSON', 0.7863198152217451],\n",
       " ['Arrieta Beach', 'arrieta beach', 'GPE', 0.71557525415434886],\n",
       " ['6', '6', 'CARDINAL', 0.35578757721440646],\n",
       " ['Tena Tena Camp', 'tena tena camp', 'PERSON', 0.70211747420684667],\n",
       " ['Zambia', 'zambia', 'GPE', 0.65676736957783055],\n",
       " ['Chipata', 'chipata', 'GPE', 0.0],\n",
       " ['two hours', 'two hour', 'TIME', 0.38735331724405414],\n",
       " ['the Great Valley Rift',\n",
       "  'the great valley rift',\n",
       "  'LOC',\n",
       "  0.52359124442056193],\n",
       " ['Lauangwa National Park',\n",
       "  'lauangwa national park',\n",
       "  'LOC',\n",
       "  0.49522060682100316],\n",
       " [\"Tena Tena's\", \"tena tena 's\", 'PERSON', 0.68637737596029391],\n",
       " ['Africa', 'africa', 'LOC', 0.59703457353453415],\n",
       " ['Switzerland', 'switzerland', 'GPE', 0.56997179870939907],\n",
       " ['Idyllic Saint-Maurice',\n",
       "  'idyllic saint - maurice',\n",
       "  'PERSON',\n",
       "  0.48235989528191009],\n",
       " ['Lake Geneva', 'lake geneva', 'LOC', 0.60161772300695393],\n",
       " ['25 minutes', '25 minute', 'TIME', 0.38616389576413118],\n",
       " ['15', '15', 'CARDINAL', 0.36274352840657892],\n",
       " ['Swiss', 'swiss', 'NORP', 0.33849841386171398],\n",
       " ['five', 'five', 'CARDINAL', 0.3025697773440309],\n",
       " ['Alpine', 'alpine', 'ORG', 0.41836947426433596],\n",
       " ['the summer', 'the summer', 'DATE', 0.46477830420938754],\n",
       " ['winter', 'winter', 'DATE', 0.37118262294232118],\n",
       " ['8', '8', 'CARDINAL', 0.33591571515893753],\n",
       " ['England', 'england', 'GPE', 0.51209032400414978],\n",
       " ['Roundhouse', 'roundhouse', 'ORG', 0.41019764423706584],\n",
       " ['Bodrifty', 'bodrifty', 'GPE', 0.0],\n",
       " ['15 minute', '15 minute', 'TIME', 0.39840077124915807],\n",
       " ['Penzance', 'penzance', 'GPE', 0.71791094994415139],\n",
       " ['Cornish', 'cornish', 'NORP', 0.41446155530991807],\n",
       " ['Iron Age', 'iron age', 'ORG', 0.35932873263734905],\n",
       " ['Egyptian', 'egyptian', 'NORP', 0.36140930807883137],\n",
       " ['Cornwall', 'cornwall', 'GPE', 0.58427918146014324],\n",
       " ['St Ives', 'st ives', 'PERSON', 0.51741366873184846],\n",
       " ['Botallack', 'botallack', 'PERSON', 0.0],\n",
       " ['one', 'one', 'CARDINAL', 0.28802844999448646],\n",
       " ['Britain', 'britain', 'GPE', 0.51924729124263602],\n",
       " ['Cornwall', 'cornwall', 'GPE', 0.58427918146014324],\n",
       " ['9', '9', 'CARDINAL', 0.35193464080049869],\n",
       " ['Spain', 'spain', 'GPE', 0.62257569878817864],\n",
       " ['Bilbao', 'bilbao', 'PERSON', 0.6897988937632541],\n",
       " ['about 50', 'about 50', 'CARDINAL', 0.35210619643079211],\n",
       " ['Basque', 'basque', 'NORP', 0.48337721875870976],\n",
       " ['The Cabins in the Trees in rural Vizcaya',\n",
       "  'the cabin in the trees in rural vizcaya',\n",
       "  'WORK_OF_ART',\n",
       "  0.61567247694207783],\n",
       " ['Europe', 'europe', 'LOC', 0.51873958141077925],\n",
       " ['17', '17', 'CARDINAL', 0.3866923477403067],\n",
       " ['10', '10', 'CARDINAL', 0.34314832119379496],\n",
       " ['Clayoquot Wilderness Resort',\n",
       "  'clayoquot wilderness resort',\n",
       "  'ORG',\n",
       "  0.46336100331390412],\n",
       " ['Canada', 'canada', 'GPE', 0.51529467025262099],\n",
       " ['Tofino', 'tofino', 'GPE', 0.82723248048807352],\n",
       " ['about 20 minutes', 'about 20 minute', 'TIME', 0.38288184570348033],\n",
       " ['Scarlett Johansson', 'scarlett johansson', 'PERSON', 0.48954006364274499],\n",
       " [\"Ryan Reynolds'\", \"ryan reynolds '\", 'PERSON', 0.43706473346927055],\n",
       " ['Vancouver Island', 'vancouver island', 'FAC', 0.65299339569999937],\n",
       " ['Vancouver', 'vancouver', 'GPE', 0.5608098509367021],\n",
       " ['Tofino)', 'tofino )', 'GPE', 0.69552281729855558],\n",
       " ['Canadian', 'canadian', 'NORP', 0.32715398063991119],\n",
       " ['11', '11', 'CARDINAL', 0.36648559631743421],\n",
       " ['Entamanu Ngorongoro', 'entamanu ngorongoro', 'PERSON', 0.68914925908638591],\n",
       " ['Tanzania', 'tanzania', 'GPE', 0.66575967979046657],\n",
       " ['Arusha', 'arusha', 'PERSON', 0.8043217066405467],\n",
       " ['200', '200', 'CARDINAL', 0.38113674548994836],\n",
       " ['Northern Tanzania', 'northern tanzania', 'GPE', 0.66615700417960355],\n",
       " [\"Nomad Tanzania's\", \"nomad tanzania 's\", 'ORG', 0.62251466387008447],\n",
       " ['Mongolian', 'mongolian', 'NORP', 0.4618569049641007],\n",
       " ['Meru', 'meru', 'ORG', 0.69082176844046295],\n",
       " ['12', '12', 'CARDINAL', 0.33850494008902532],\n",
       " ['Hobbit House', 'hobbit house', 'PERSON', 0.49435776027478967],\n",
       " ['England', 'england', 'GPE', 0.51209032400414978],\n",
       " ['Penzance', 'penzance', 'GPE', 0.71791094994415139],\n",
       " ['409', '409', 'CARDINAL', 0.4879969963345569],\n",
       " ['Cornwall', 'cornwall', 'GPE', 0.58427918146014324],\n",
       " ['Hobbit House', 'hobbit house', 'PERSON', 0.49435776027478967],\n",
       " ['13', '13', 'CARDINAL', 0.35829073411294809],\n",
       " ['Montana', 'montana', 'GPE', 0.52959299018667061],\n",
       " ['USA', 'usa', 'GPE', 0.48052507500675079],\n",
       " ['Missoula', 'missoula', 'GPE', 0.6029608279694989],\n",
       " ['around 35 minutes', 'around 35 minute', 'TIME', 0.38721011592809912],\n",
       " ['Montana', 'montana', 'GPE', 0.52959299018667061],\n",
       " ['five', 'five', 'CARDINAL', 0.3025697773440309],\n",
       " ['14', '14', 'CARDINAL', 0.37848454750548843],\n",
       " ['Emma Gorge Resort', 'emma gorge resort', 'ORG', 0.55354062690448258],\n",
       " ['Western Australia', 'western australia', 'ORG', 0.58294653150937292],\n",
       " ['Kimberley', 'kimberley', 'GPE', 0.63141799155835476],\n",
       " ['Bali', 'bali', 'GPE', 0.70284766036235846],\n",
       " ['Perth', 'perth', 'GPE', 0.61263662766253379],\n",
       " ['Kununurra', 'kununurra', 'GPE', 0.80371064107510504],\n",
       " ['Outback', 'outback', 'PERSON', 0.55492759036817707],\n",
       " ['El Questro Wilderness Park',\n",
       "  'el questro wilderness park',\n",
       "  'ORG',\n",
       "  0.52229807672486195],\n",
       " [\"Western Australia's\", \"western australia 's\", 'LOC', 0.56895637617301786],\n",
       " ['Kimberley', 'kimberley', 'GPE', 0.63141799155835476],\n",
       " ['15', '15', 'CARDINAL', 0.36274352840657892],\n",
       " ['Scotland', 'scotland', 'GPE', 0.51792872112584054],\n",
       " ['20 minute', '20 minute', 'TIME', 0.39664530007609378],\n",
       " ['Trossachs Natural Park',\n",
       "  'trossachs natural park',\n",
       "  'ORG',\n",
       "  0.44069428334751004],\n",
       " ['Loch Lomond', 'loch lomond', 'PERSON', 0.59372008782185137],\n",
       " ['Loch Lomond', 'loch lomond', 'ORG', 0.59372008782185137],\n",
       " ['Trossachs', 'trossachs', 'ORG', 0.0],\n",
       " ['16', '16', 'CARDINAL', 0.36594566824935382],\n",
       " ['Longitude 131°', 'longitude 131°', 'PERSON', 0.36767160882895172],\n",
       " ['Australia', 'australia', 'GPE', 0.5464240280709719],\n",
       " ['Ayers Rock Airport', 'ayers rock airport', 'ORG', 0.52774402055250358],\n",
       " ['Alice Springs', 'alice springs', 'PERSON', 0.44679600249485324],\n",
       " ['50 minutes', '50 minute', 'TIME', 0.3730120757388416],\n",
       " ['Sydney', 'sydney', 'GPE', 0.55472392045375341],\n",
       " ['3 hours', '3 hour', 'TIME', 0.37246800362465798],\n",
       " ['Longitude 131°', 'longitude 131°', 'ORG', 0.36767160882895172],\n",
       " ['Monte Uluru', 'monte uluru', 'PERSON', 0.71374632772202162],\n",
       " ['Australian', 'australian', 'NORP', 0.36730682862950226],\n",
       " ['15', '15', 'CARDINAL', 0.36274352840657892]]"
      ]
     },
     "execution_count": 32,
     "metadata": {},
     "output_type": "execute_result"
    }
   ],
   "source": [
    "similarities"
   ]
  }
 ],
 "metadata": {
  "anaconda-cloud": {},
  "kernelspec": {
   "display_name": "Python [conda root]",
   "language": "python",
   "name": "conda-root-py"
  },
  "language_info": {
   "codemirror_mode": {
    "name": "ipython",
    "version": 3
   },
   "file_extension": ".py",
   "mimetype": "text/x-python",
   "name": "python",
   "nbconvert_exporter": "python",
   "pygments_lexer": "ipython3",
   "version": "3.5.2"
  }
 },
 "nbformat": 4,
 "nbformat_minor": 1
}
